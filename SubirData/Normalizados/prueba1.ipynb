{
 "cells": [
  {
   "cell_type": "code",
   "execution_count": 1,
   "metadata": {},
   "outputs": [],
   "source": [
    "import pandas as pd\n"
   ]
  },
  {
   "cell_type": "code",
   "execution_count": 2,
   "metadata": {},
   "outputs": [
    {
     "data": {
      "text/html": [
       "<div>\n",
       "<style scoped>\n",
       "    .dataframe tbody tr th:only-of-type {\n",
       "        vertical-align: middle;\n",
       "    }\n",
       "\n",
       "    .dataframe tbody tr th {\n",
       "        vertical-align: top;\n",
       "    }\n",
       "\n",
       "    .dataframe thead th {\n",
       "        text-align: right;\n",
       "    }\n",
       "</style>\n",
       "<table border=\"1\" class=\"dataframe\">\n",
       "  <thead>\n",
       "    <tr style=\"text-align: right;\">\n",
       "      <th></th>\n",
       "      <th>País,Código,Año,Combustibles Fósiles (% Energía Primaria Equivalente),Renovables (% Energía Primaria Equivalente),Nuclear (% Energía Primaria Equivalente),Id_País,Id_Año</th>\n",
       "    </tr>\n",
       "  </thead>\n",
       "  <tbody>\n",
       "    <tr>\n",
       "      <th>0</th>\n",
       "      <td>Africa,,1965,94.25251007080078,5.7474946975708...</td>\n",
       "    </tr>\n",
       "    <tr>\n",
       "      <th>1</th>\n",
       "      <td>Africa,,1966,93.8779296875,6.122061729431152,0...</td>\n",
       "    </tr>\n",
       "    <tr>\n",
       "      <th>2</th>\n",
       "      <td>Africa,,1967,93.67426300048828,6.3257308006286...</td>\n",
       "    </tr>\n",
       "    <tr>\n",
       "      <th>3</th>\n",
       "      <td>Africa,,1968,92.99469757080078,7.0052928924560...</td>\n",
       "    </tr>\n",
       "    <tr>\n",
       "      <th>4</th>\n",
       "      <td>Africa,,1969,92.04390716552734,7.9560875892639...</td>\n",
       "    </tr>\n",
       "  </tbody>\n",
       "</table>\n",
       "</div>"
      ],
      "text/plain": [
       "  País,Código,Año,Combustibles Fósiles (% Energía Primaria Equivalente),Renovables (% Energía Primaria Equivalente),Nuclear (% Energía Primaria Equivalente),Id_País,Id_Año\n",
       "0  Africa,,1965,94.25251007080078,5.7474946975708...                                                                                                                       \n",
       "1  Africa,,1966,93.8779296875,6.122061729431152,0...                                                                                                                       \n",
       "2  Africa,,1967,93.67426300048828,6.3257308006286...                                                                                                                       \n",
       "3  Africa,,1968,92.99469757080078,7.0052928924560...                                                                                                                       \n",
       "4  Africa,,1969,92.04390716552734,7.9560875892639...                                                                                                                       "
      ]
     },
     "execution_count": 2,
     "metadata": {},
     "output_type": "execute_result"
    }
   ],
   "source": [
    "# ingestar emissionsmap\\SubirData\\archivosPrueba\\sub-energy-fossil-renewables-nuclear.csv\n",
    "df = pd.read_csv('Normal_sub-energy-fossil-renewables-nuclear.csv', sep=';')\n",
    "df.head()"
   ]
  },
  {
   "cell_type": "code",
   "execution_count": 3,
   "metadata": {},
   "outputs": [
    {
     "data": {
      "text/html": [
       "<div>\n",
       "<style scoped>\n",
       "    .dataframe tbody tr th:only-of-type {\n",
       "        vertical-align: middle;\n",
       "    }\n",
       "\n",
       "    .dataframe tbody tr th {\n",
       "        vertical-align: top;\n",
       "    }\n",
       "\n",
       "    .dataframe thead th {\n",
       "        text-align: right;\n",
       "    }\n",
       "</style>\n",
       "<table border=\"1\" class=\"dataframe\">\n",
       "  <thead>\n",
       "    <tr style=\"text-align: right;\">\n",
       "      <th></th>\n",
       "      <th>País,Código,Año,Combustibles Fósiles (% Energía Primaria Equivalente),Renovables (% Energía Primaria Equivalente),Nuclear (% Energía Primaria Equivalente),Id_País,Id_Año</th>\n",
       "    </tr>\n",
       "  </thead>\n",
       "  <tbody>\n",
       "    <tr>\n",
       "      <th>6154</th>\n",
       "      <td>World,OWID_WRL,2017,84.36537170410156,11.35597...</td>\n",
       "    </tr>\n",
       "    <tr>\n",
       "      <th>6155</th>\n",
       "      <td>World,OWID_WRL,2018,84.02088165283203,11.74105...</td>\n",
       "    </tr>\n",
       "    <tr>\n",
       "      <th>6156</th>\n",
       "      <td>World,OWID_WRL,2019,83.42719268798828,12.23798...</td>\n",
       "    </tr>\n",
       "    <tr>\n",
       "      <th>6157</th>\n",
       "      <td>World,OWID_WRL,2020,82.2113037109375,13.455194...</td>\n",
       "    </tr>\n",
       "    <tr>\n",
       "      <th>6158</th>\n",
       "      <td>World,OWID_WRL,2021,82.2759017944336,13.470907...</td>\n",
       "    </tr>\n",
       "  </tbody>\n",
       "</table>\n",
       "</div>"
      ],
      "text/plain": [
       "     País,Código,Año,Combustibles Fósiles (% Energía Primaria Equivalente),Renovables (% Energía Primaria Equivalente),Nuclear (% Energía Primaria Equivalente),Id_País,Id_Año\n",
       "6154  World,OWID_WRL,2017,84.36537170410156,11.35597...                                                                                                                       \n",
       "6155  World,OWID_WRL,2018,84.02088165283203,11.74105...                                                                                                                       \n",
       "6156  World,OWID_WRL,2019,83.42719268798828,12.23798...                                                                                                                       \n",
       "6157  World,OWID_WRL,2020,82.2113037109375,13.455194...                                                                                                                       \n",
       "6158  World,OWID_WRL,2021,82.2759017944336,13.470907...                                                                                                                       "
      ]
     },
     "execution_count": 3,
     "metadata": {},
     "output_type": "execute_result"
    }
   ],
   "source": [
    "df.tail()"
   ]
  },
  {
   "cell_type": "code",
   "execution_count": 5,
   "metadata": {},
   "outputs": [
    {
     "name": "stdout",
     "output_type": "stream",
     "text": [
      "<class 'pandas.core.frame.DataFrame'>\n",
      "RangeIndex: 6159 entries, 0 to 6158\n",
      "Data columns (total 1 columns):\n",
      " #   Column                                                                                                                                                                     Non-Null Count  Dtype \n",
      "---  ------                                                                                                                                                                     --------------  ----- \n",
      " 0   País,Código,Año,Combustibles Fósiles (% Energía Primaria Equivalente),Renovables (% Energía Primaria Equivalente),Nuclear (% Energía Primaria Equivalente),Id_País,Id_Año  6159 non-null   object\n",
      "dtypes: object(1)\n",
      "memory usage: 48.2+ KB\n"
     ]
    }
   ],
   "source": [
    "df.info()\n"
   ]
  }
 ],
 "metadata": {
  "kernelspec": {
   "display_name": "Python 3.10.6 64-bit (windows store)",
   "language": "python",
   "name": "python3"
  },
  "language_info": {
   "codemirror_mode": {
    "name": "ipython",
    "version": 3
   },
   "file_extension": ".py",
   "mimetype": "text/x-python",
   "name": "python",
   "nbconvert_exporter": "python",
   "pygments_lexer": "ipython3",
   "version": "3.10.6"
  },
  "orig_nbformat": 4,
  "vscode": {
   "interpreter": {
    "hash": "7ec9833d269f19a831f36bc6613108b7aac82e51287a4c151b04f68c903f9ba8"
   }
  }
 },
 "nbformat": 4,
 "nbformat_minor": 2
}
